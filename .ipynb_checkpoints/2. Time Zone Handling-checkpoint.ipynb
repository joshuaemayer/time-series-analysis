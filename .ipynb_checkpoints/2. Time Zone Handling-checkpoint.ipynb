{
 "cells": [
  {
   "cell_type": "code",
   "execution_count": 1,
   "metadata": {
    "collapsed": true
   },
   "outputs": [],
   "source": [
    "import numpy as np\n",
    "import pandas as pd"
   ]
  },
  {
   "cell_type": "code",
   "execution_count": 2,
   "metadata": {
    "collapsed": true
   },
   "outputs": [],
   "source": [
    "rng = pd.date_range('3/6/2012 00:00', periods = 15, freq = 'D')\n",
    "rng.tz"
   ]
  },
  {
   "cell_type": "code",
   "execution_count": 3,
   "metadata": {
    "collapsed": false
   },
   "outputs": [
    {
     "data": {
      "text/plain": [
       "<DstTzInfo 'Europe/London' LMT-1 day, 23:59:00 STD>"
      ]
     },
     "execution_count": 3,
     "metadata": {},
     "output_type": "execute_result"
    }
   ],
   "source": [
    "rng_tz = pd.date_range('3/6/2012 00:00', periods = 15, freq = 'D', tz = 'Europe/London')\n",
    "rng_tz.tz"
   ]
  },
  {
   "cell_type": "code",
   "execution_count": 4,
   "metadata": {
    "collapsed": false
   },
   "outputs": [
    {
     "name": "stdout",
     "output_type": "stream",
     "text": [
      "439\n",
      "593\n",
      "{'Greenwich', 'America/Shiprock', 'Universal', 'EET', 'WET', 'Japan', 'Etc/Universal', 'Etc/GMT-14', 'Asia/Ujung_Pandang', 'Etc/GMT-11', 'Australia/NSW', 'America/Rosario', 'Etc/GMT+3', 'Pacific/Truk', 'MST', 'Asia/Rangoon', 'Asia/Chongqing', 'Etc/GMT+8', 'Etc/GMT-5', 'Etc/GMT-12', 'Etc/GMT-9', 'Australia/LHI', 'Brazil/Acre', 'Turkey', 'CET', 'Eire', 'America/Cordoba', 'EST', 'Asia/Katmandu', 'Brazil/West', 'US/East-Indiana', 'Etc/GMT+2', 'Cuba', 'Etc/GMT+1', 'Asia/Tel_Aviv', 'Australia/Victoria', 'Etc/GMT+0', 'EST5EDT', 'Mexico/General', 'America/Argentina/ComodRivadavia', 'America/Coral_Harbour', 'Africa/Timbuktu', 'Singapore', 'Asia/Saigon', 'Pacific/Johnston', 'America/Mendoza', 'America/Catamarca', 'Pacific/Ponape', 'Etc/GMT+9', 'Asia/Ashkhabad', 'Etc/GMT+11', 'Atlantic/Faeroe', 'Australia/ACT', 'US/Samoa', 'Canada/Yukon', 'Asia/Dacca', 'Etc/GMT-6', 'Asia/Harbin', 'America/Virgin', 'America/Knox_IN', 'America/Porto_Acre', 'GMT+0', 'America/Montreal', 'Pacific/Yap', 'Brazil/East', 'Etc/UCT', 'Australia/Tasmania', 'Asia/Chungking', 'Zulu', 'Etc/GMT-8', 'Chile/Continental', 'Africa/Asmera', 'America/Buenos_Aires', 'MST7MDT', 'Israel', 'US/Indiana-Starke', 'US/Pacific-New', 'Canada/East-Saskatchewan', 'Etc/GMT+12', 'Etc/GMT-0', 'Etc/UTC', 'America/Atka', 'Pacific/Samoa', 'W-SU', 'Etc/GMT+7', 'Etc/GMT-1', 'Asia/Macao', 'Etc/GMT+5', 'UCT', 'America/Ensenada', 'Etc/GMT+6', 'Australia/Canberra', 'Navajo', 'Australia/South', 'Etc/GMT-10', 'HST', 'Portugal', 'Europe/Belfast', 'GB', 'Etc/GMT-13', 'Atlantic/Jan_Mayen', 'Asia/Thimbu', 'America/Fort_Wayne', 'Egypt', 'Hongkong', 'Australia/Yancowinna', 'Etc/GMT', 'America/Santa_Isabel', 'ROK', 'Europe/Nicosia', 'Etc/GMT0', 'America/Jujuy', 'Jamaica', 'NZ-CHAT', 'GMT0', 'CST6CDT', 'Etc/Greenwich', 'America/Indianapolis', 'Iran', 'Kwajalein', 'Australia/North', 'Etc/GMT+10', 'GMT-0', 'Etc/GMT-3', 'America/Louisville', 'PRC', 'GB-Eire', 'US/Aleutian', 'Mexico/BajaNorte', 'US/Michigan', 'Mexico/BajaSur', 'Europe/Tiraspol', 'Asia/Kashgar', 'Antarctica/South_Pole', 'ROC', 'Asia/Istanbul', 'Libya', 'Australia/West', 'PST8PDT', 'Etc/Zulu', 'MET', 'Asia/Calcutta', 'Canada/Saskatchewan', 'Australia/Queensland', 'Etc/GMT+4', 'Chile/EasterIsland', 'Etc/GMT-2', 'Brazil/DeNoronha', 'Iceland', 'Etc/GMT-7', 'NZ', 'Etc/GMT-4', 'Poland', 'Asia/Ulan_Bator'}\n"
     ]
    }
   ],
   "source": [
    "from pytz import common_timezones, all_timezones\n",
    "print(len(common_timezones))\n",
    "print(len(all_timezones))\n",
    "print(set(all_timezones) - set(common_timezones))"
   ]
  },
  {
   "cell_type": "code",
   "execution_count": 5,
   "metadata": {
    "collapsed": false
   },
   "outputs": [
    {
     "data": {
      "text/plain": [
       "Timestamp('2016-07-10 08:50:00')"
      ]
     },
     "execution_count": 5,
     "metadata": {},
     "output_type": "execute_result"
    }
   ],
   "source": [
    "# You can also localize a naive timestamp\n",
    "t_naive = pd.Timestamp('2016-07-10 08:50')\n",
    "t_naive"
   ]
  },
  {
   "cell_type": "code",
   "execution_count": 6,
   "metadata": {
    "collapsed": false
   },
   "outputs": [
    {
     "data": {
      "text/plain": [
       "Timestamp('2016-07-10 08:50:00-0500', tz='US/Central')"
      ]
     },
     "execution_count": 6,
     "metadata": {},
     "output_type": "execute_result"
    }
   ],
   "source": [
    "t = t_naive.tz_localize(tz = 'US/Central')\n",
    "t"
   ]
  },
  {
   "cell_type": "code",
   "execution_count": 7,
   "metadata": {
    "collapsed": false
   },
   "outputs": [
    {
     "data": {
      "text/plain": [
       "Timestamp('2016-07-10 22:50:00+0900', tz='Asia/Tokyo')"
      ]
     },
     "execution_count": 7,
     "metadata": {},
     "output_type": "execute_result"
    }
   ],
   "source": [
    "t.tz_convert('Asia/Tokyo')"
   ]
  },
  {
   "cell_type": "code",
   "execution_count": 8,
   "metadata": {
    "collapsed": false
   },
   "outputs": [
    {
     "data": {
      "text/plain": [
       "2016-03-10 00:00:00-06:00    0\n",
       "2016-03-11 00:00:00-06:00    1\n",
       "2016-03-12 00:00:00-06:00    2\n",
       "2016-03-13 00:00:00-06:00    3\n",
       "2016-03-14 00:00:00-05:00    4\n",
       "2016-03-15 00:00:00-05:00    5\n",
       "2016-03-16 00:00:00-05:00    6\n",
       "2016-03-17 00:00:00-05:00    7\n",
       "2016-03-18 00:00:00-05:00    8\n",
       "2016-03-19 00:00:00-05:00    9\n",
       "Freq: D, dtype: int64"
      ]
     },
     "execution_count": 8,
     "metadata": {},
     "output_type": "execute_result"
    }
   ],
   "source": [
    "# how to handle daylight savings?\n",
    "rng = pd.date_range('2016-03-10', periods=10, tz='US/Central')\n",
    "ts = pd.Series(range(10), index=rng)\n",
    "ts"
   ]
  },
  {
   "cell_type": "code",
   "execution_count": 9,
   "metadata": {
    "collapsed": false
   },
   "outputs": [
    {
     "data": {
      "text/plain": [
       "2016-03-10 00:00:00+00:00    0\n",
       "2016-03-11 00:00:00+00:00    1\n",
       "2016-03-12 00:00:00+00:00    2\n",
       "2016-03-13 00:00:00+00:00    3\n",
       "2016-03-14 00:00:00+00:00    4\n",
       "2016-03-15 00:00:00+00:00    5\n",
       "2016-03-16 00:00:00+00:00    6\n",
       "2016-03-17 00:00:00+00:00    7\n",
       "2016-03-18 00:00:00+00:00    8\n",
       "2016-03-19 00:00:00+00:00    9\n",
       "Freq: D, dtype: int64"
      ]
     },
     "execution_count": 9,
     "metadata": {},
     "output_type": "execute_result"
    }
   ],
   "source": [
    "rng = pd.date_range('2016-03-10', periods=10, tz='utc')\n",
    "ts = pd.Series(range(10), index=rng)\n",
    "ts"
   ]
  },
  {
   "cell_type": "code",
   "execution_count": 10,
   "metadata": {
    "collapsed": false
   },
   "outputs": [
    {
     "data": {
      "text/plain": [
       "2016-03-09 18:00:00-06:00    0\n",
       "2016-03-10 18:00:00-06:00    1\n",
       "2016-03-11 18:00:00-06:00    2\n",
       "2016-03-12 18:00:00-06:00    3\n",
       "2016-03-13 19:00:00-05:00    4\n",
       "2016-03-14 19:00:00-05:00    5\n",
       "2016-03-15 19:00:00-05:00    6\n",
       "2016-03-16 19:00:00-05:00    7\n",
       "2016-03-17 19:00:00-05:00    8\n",
       "2016-03-18 19:00:00-05:00    9\n",
       "Freq: D, dtype: int64"
      ]
     },
     "execution_count": 10,
     "metadata": {},
     "output_type": "execute_result"
    }
   ],
   "source": [
    "ts.tz_convert('US/Central')"
   ]
  },
  {
   "cell_type": "code",
   "execution_count": 11,
   "metadata": {
    "collapsed": false
   },
   "outputs": [
    {
     "data": {
      "text/plain": [
       "DatetimeIndex(['2016-03-12 22:00:00-05:00', '2016-03-12 23:00:00-05:00',\n",
       "               '2016-03-13 00:00:00-05:00', '2016-03-13 01:00:00-05:00',\n",
       "               '2016-03-13 03:00:00-04:00', '2016-03-13 04:00:00-04:00',\n",
       "               '2016-03-13 05:00:00-04:00', '2016-03-13 06:00:00-04:00',\n",
       "               '2016-03-13 07:00:00-04:00', '2016-03-13 08:00:00-04:00',\n",
       "               '2016-03-13 09:00:00-04:00', '2016-03-13 10:00:00-04:00'],\n",
       "              dtype='datetime64[ns, US/Eastern]', freq='H')"
      ]
     },
     "execution_count": 11,
     "metadata": {},
     "output_type": "execute_result"
    }
   ],
   "source": [
    "pd.date_range('03-12-2016 22:00', periods = 12, freq = 'H', tz = 'US/Eastern')"
   ]
  },
  {
   "cell_type": "code",
   "execution_count": 12,
   "metadata": {
    "collapsed": false
   },
   "outputs": [
    {
     "data": {
      "text/plain": [
       "Timestamp('2016-03-13 03:00:00-0400', tz='US/Eastern')"
      ]
     },
     "execution_count": 12,
     "metadata": {},
     "output_type": "execute_result"
    }
   ],
   "source": [
    "# May autocorrect an error rather than giving you a non-existent time error\n",
    "pd.Timestamp('2016-03-13 02:00', tz = 'US/Eastern')"
   ]
  },
  {
   "cell_type": "code",
   "execution_count": null,
   "metadata": {
    "collapsed": true
   },
   "outputs": [],
   "source": []
  }
 ],
 "metadata": {
  "kernelspec": {
   "display_name": "Python 3",
   "language": "python",
   "name": "python3"
  },
  "language_info": {
   "codemirror_mode": {
    "name": "ipython",
    "version": 3
   },
   "file_extension": ".py",
   "mimetype": "text/x-python",
   "name": "python",
   "nbconvert_exporter": "python",
   "pygments_lexer": "ipython3",
   "version": "3.6.1"
  },
  "widgets": {
   "state": {},
   "version": "1.1.1"
  }
 },
 "nbformat": 4,
 "nbformat_minor": 0
}
